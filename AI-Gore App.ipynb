{
 "cells": [
  {
   "cell_type": "markdown",
   "id": "2d973d24",
   "metadata": {},
   "source": [
    "# AI-Gore for learning SDGs\n",
    "\n",
    "This is an app inspired by a famous LLM-based mobile game called Infinite Craft. \n",
    "\n",
    "The UI of the Infinite Craft is very simple. All it does is to enable the player to combine two words (at the beginning only four words - earth, wind, fire, and water- can be combined with each other) such as \"stone\" and \"fire\" to generate a new word \"lava\".\n",
    "\n",
    "While the Infinite Craft is played in many ways, the most common way to play this with friends is to compete how many steps you needed to reach to the target word. For example how many words will be needed to obtain the word \"Vienna\".\n",
    "\n",
    "To excell in this game, one need to know the common words associated to the target word. I.e., for \"Vienna\" we might consider words such as \"Waltz\" or \"Music\" to be highly associated.\n",
    "\n",
    "For this reason, we decided to build the Infinite Craft game in the context of SDGs so that someone unfamiliar with this concept can better develop some understanding of it in a playful manner. \n",
    "\n",
    "The inspiration for the name AI-Gore is obvious."
   ]
  },
  {
   "cell_type": "code",
   "execution_count": null,
   "id": "863f32d8",
   "metadata": {},
   "outputs": [],
   "source": [
    "# !pip -q install pandas squarify langchain docx2txt pypdf bitsandbytes accelerate xformers einops datasets loralib sentencepiece sentence_transformers chromadb"
   ]
  },
  {
   "cell_type": "markdown",
   "id": "42b85b86",
   "metadata": {},
   "source": [
    "Run the code above in case you haven't run the UnidoMain.ipynb file yet where there is a same chunk that downloads all relevant packages called in the chunk below"
   ]
  },
  {
   "cell_type": "code",
   "execution_count": 117,
   "id": "e0dfb721",
   "metadata": {},
   "outputs": [],
   "source": [
    "import pandas as pd\n",
    "import torch\n",
    "import gc\n",
    "import os\n",
    "\n",
    "from langchain.document_loaders import PyPDFLoader,Docx2txtLoader\n",
    "from langchain.text_splitter import RecursiveCharacterTextSplitter\n",
    "from langchain.embeddings import HuggingFaceEmbeddings\n",
    "from langchain.vectorstores import Chroma\n",
    "from langchain.chains import RetrievalQA\n",
    "from transformers import AutoTokenizer, AutoModelForCausalLM, pipeline,BitsAndBytesConfig\n",
    "from langchain.chains.combine_documents.stuff import StuffDocumentsChain\n",
    "from langchain_community.llms import HuggingFacePipeline\n",
    "from langchain.prompts import PromptTemplate\n",
    "from langchain.chains.llm import LLMChain\n",
    "from langchain.chat_models import ChatOpenAI\n",
    "from langchain_community.llms import DeepInfra\n",
    "from langchain.chains.combine_documents import create_stuff_documents_chain"
   ]
  },
  {
   "cell_type": "markdown",
   "id": "2772b1f1",
   "metadata": {},
   "source": [
    "Main prompt"
   ]
  },
  {
   "cell_type": "code",
   "execution_count": 126,
   "id": "68288f1b",
   "metadata": {},
   "outputs": [],
   "source": [
    "prompt = \"\"\"\n",
    "// Lines in this file starting with '//' are comments and will be ignored\n",
    "// The following is a basic system prompt to run the game using the Alpaca template\n",
    "// Variables:\n",
    "// - {question} - The user's question\n",
    "// - {context} - The user's context \n",
    "Below is an instruction that describes a task, paired with an question and the context. Write a response that appropriately completes the request.\n",
    " \n",
    "### Instruction:\n",
    "We are going to play a game called twisted version of \"Infinite Craft\". Infinite Craft is a game like Little Alchemy but you can combine ANY element to possibly get a output!\n",
    "The inputs to this game are the two words to be combined with.\n",
    "The output will either be another word closely associated with the two words, or one of the 17 Sustanable Developments Goals (SDGs) provided in the context if the combined meaning of these two words are sufficiently close to one of it. \n",
    " \n",
    "For example, combining \"Hunger\" and \"Eradicate\" might give us the second SDGs \"Zero Hunger\". \n",
    "\n",
    "While combining \"World\" and \"Eradicate\" will not relate to any of the 17 SDGs, so you give us instead a word \"Apocalypse\" \n",
    "which is closest to the combined meaning of two words \"World\" and \"Eradicate\". Be creative with your answer.\n",
    "\n",
    "See below for the example input and output.\n",
    "\n",
    "Examples:\n",
    " \n",
    "- Input: \"Hunger, Eradicate\"\n",
    "- Output:\n",
    "SDG 2: Zero Hunger\n",
    "```\n",
    " \n",
    "- Input: \"World, Eradicate\"\n",
    "- Output:\n",
    "Apocalypse\n",
    "```\n",
    " \n",
    "Sometimes the user will combine two of the same element. In some cases the output should be a bigger version of the element. For example, combining \"Urban\" and \"Urban\" might give us \"Metropolis\".\n",
    "\n",
    "Below is the list of SDGs: \n",
    "\n",
    "*** IMPORTANT ***\n",
    "NEVER output more then 1 word at a time unless it's one of the SDGs.\n",
    "Make sure to be creative but still logically correct!!!\n",
    "The response MUST be simple and relatively short.\n",
    "\n",
    "### Context:\n",
    "{context}\n",
    "\n",
    "\n",
    "### Question:\n",
    "{question}\n",
    " \n",
    "### Response:\n",
    "\"\"\""
   ]
  },
  {
   "cell_type": "markdown",
   "id": "e17160f5",
   "metadata": {},
   "source": [
    "Make sure the SDGs.pdf is in the same directory. This is used as source in the RAG."
   ]
  },
  {
   "cell_type": "code",
   "execution_count": 127,
   "id": "f07c699b",
   "metadata": {},
   "outputs": [
    {
     "name": "stderr",
     "output_type": "stream",
     "text": [
      "/Users/jan/opt/anaconda3/lib/python3.11/site-packages/torch/_utils.py:776: UserWarning: TypedStorage is deprecated. It will be removed in the future and UntypedStorage will be the only storage class. This should only matter to you if you are using storages directly.  To access UntypedStorage directly, use tensor.untyped_storage() instead of tensor.storage()\n",
      "  return self.fget.__get__(instance, owner)()\n"
     ]
    }
   ],
   "source": [
    "document =[]\n",
    "loader = PyPDFLoader(\"SDGs.pdf\")\n",
    "document.extend(loader.load())\n",
    "document_splitter = RecursiveCharacterTextSplitter(separators = [\"\\n\\n\",\"\\n\",\" \", \"\"],\n",
    "                                                   chunk_size = 1000,\n",
    "                                                   chunk_overlap = 200,\n",
    "                                                   length_function = len)\n",
    "document_chunks = document_splitter.split_documents(document)\n",
    "embeddings = HuggingFaceEmbeddings(model_name = 'sentence-transformers/all-MiniLM-L6-v2')  \n",
    "vectordb = Chroma.from_documents(document_chunks, embedding = embeddings)"
   ]
  },
  {
   "cell_type": "markdown",
   "id": "fc72d230",
   "metadata": {},
   "source": [
    "Below is the API token to the LLama model we used through DeepInfra"
   ]
  },
  {
   "cell_type": "code",
   "execution_count": 129,
   "id": "59cf2ea3",
   "metadata": {},
   "outputs": [],
   "source": [
    "os.environ[\"DEEPINFRA_API_TOKEN\"] = \"zAMiCKmaweiQ0nNM0jMaV956QXXjTF1a\""
   ]
  },
  {
   "cell_type": "code",
   "execution_count": 131,
   "id": "bf289dac",
   "metadata": {},
   "outputs": [],
   "source": [
    "llm = DeepInfra(model_id=\"meta-llama/Llama-2-70b-chat-hf\")\n",
    "llm.model_kwargs = {\n",
    "    \"temperature\": 0.2,\n",
    "    \"repetition_penalty\": 1.2,\n",
    "    \"max_new_tokens\": 250,\n",
    "    \"top_p\": 0.9,\n",
    "}"
   ]
  },
  {
   "cell_type": "code",
   "execution_count": 132,
   "id": "7b861435",
   "metadata": {},
   "outputs": [],
   "source": [
    "# RAG part\n",
    "QA_CHAIN_PROMPT = PromptTemplate.from_template(prompt)\n",
    "llm_chain = LLMChain(llm=llm, prompt=QA_CHAIN_PROMPT, callbacks=None, verbose=False)\n",
    "# combine documents retrieved from vector database\n",
    "document_prompt = PromptTemplate(\n",
    "    input_variables=[\"page_content\", \"source\"],\n",
    "    template=\"Context:\\ncontent:{page_content}\\nsource:{source}\",\n",
    ")\n",
    "combine_documents_chain = StuffDocumentsChain(\n",
    "        llm_chain=llm_chain,\n",
    "        document_variable_name=\"context\",\n",
    "        document_prompt=document_prompt,\n",
    "        callbacks=None,\n",
    ")\n",
    "# feed all above into this function to carry out the QA\n",
    "qa_chain = RetrievalQA(\n",
    "    combine_documents_chain=combine_documents_chain,\n",
    "    callbacks=None,\n",
    "    verbose=False,\n",
    "    retriever = vectordb.as_retriever(search_kwargs={'k':5}),\n",
    "    return_source_documents = False\n",
    ")"
   ]
  },
  {
   "cell_type": "markdown",
   "id": "fd4d7d06",
   "metadata": {},
   "source": [
    "The UI works in the following manner:\n",
    "\n",
    "* At the beginning, one word is randomly drawn and is treated as the Base Word\n",
    "\n",
    "* The player will choose another word from the dropdown menu and the combined word will be the Base Word for the next try\n",
    "\n",
    "* After the 10th try, if the player is still unable to get to one of the SDGs, the game will stop\n",
    "\n",
    "Sometimes, the LLM makes a very awkward word such as \"Education Empire\" which is quite amusing. \n",
    "\n",
    "On the other hand, we also observed many occasions in which it tries to associate words that does not even remotely seem to be associated to a particular SDG as the combined word, so still a lot of work is needed. "
   ]
  },
  {
   "cell_type": "code",
   "execution_count": 135,
   "id": "11f42c7c",
   "metadata": {},
   "outputs": [
    {
     "data": {
      "application/vnd.jupyter.widget-view+json": {
       "model_id": "b6864dfd4a69466c812ecb72a646562c",
       "version_major": 2,
       "version_minor": 0
      },
      "text/plain": [
       "Dropdown(description='Base Word', options=('Global',), value='Global')"
      ]
     },
     "metadata": {},
     "output_type": "display_data"
    },
    {
     "data": {
      "application/vnd.jupyter.widget-view+json": {
       "model_id": "9c0cfe366b3c44eca58d8d26b005fff7",
       "version_major": 2,
       "version_minor": 0
      },
      "text/plain": [
       "Dropdown(description='Chosen Word', options=('Poverty', 'Gender', 'Female', 'Hunger', 'Health', 'Education', '…"
      ]
     },
     "metadata": {},
     "output_type": "display_data"
    },
    {
     "data": {
      "application/vnd.jupyter.widget-view+json": {
       "model_id": "292478ba59f941868020f7051f52e1a0",
       "version_major": 2,
       "version_minor": 0
      },
      "text/plain": [
       "Button(description='Enter', style=ButtonStyle())"
      ]
     },
     "metadata": {},
     "output_type": "display_data"
    },
    {
     "data": {
      "application/vnd.jupyter.widget-view+json": {
       "model_id": "94fb0f08ba71466a95b32d216e8e5691",
       "version_major": 2,
       "version_minor": 0
      },
      "text/plain": [
       "Label(value='Counter: 10')"
      ]
     },
     "metadata": {},
     "output_type": "display_data"
    },
    {
     "data": {
      "application/vnd.jupyter.widget-view+json": {
       "model_id": "52d269adbfa34f8580fde129d7102e62",
       "version_major": 2,
       "version_minor": 0
      },
      "text/plain": [
       "Label(value='')"
      ]
     },
     "metadata": {},
     "output_type": "display_data"
    },
    {
     "data": {
      "application/vnd.jupyter.widget-view+json": {
       "model_id": "770e050c7ce949efbc04000026649869",
       "version_major": 2,
       "version_minor": 0
      },
      "text/plain": [
       "Label(value='')"
      ]
     },
     "metadata": {},
     "output_type": "display_data"
    }
   ],
   "source": [
    "import ipywidgets as widgets\n",
    "from IPython.display import display\n",
    "import random\n",
    "# Initialize counter\n",
    "counter = 10\n",
    "\n",
    "list_of_words = ['Poverty', 'Gender','Female','Hunger','Health','Education',\n",
    "             'Sanitation','Energy','Economy','Development','Work',\n",
    "             'Industry','Infrastructure','Digital','Consumption',\n",
    "            'Production','Climate','Ocean','Forest','Soil','Animal',\n",
    "            'Justice','Inequality','Fairness','Collaboration','Urban',\n",
    "            'Administrative','Cheap','Accessible','Abundant','Decrease',\n",
    "            'Empower','Objective','Group','Team','Reliable',\"Eradicate\",\n",
    "            \"Nullify\",'Being','World','Global']\n",
    "# Dropdown options\n",
    "options_1 = random.choice(list_of_words)\n",
    "options_2 = list_of_words\n",
    "\n",
    "# Dropdown widgets\n",
    "dropdown_1 = widgets.Dropdown(options=options_1, description='Base Word')\n",
    "dropdown_1.options = [options_1]\n",
    "dropdown_2 = widgets.Dropdown(options=options_2, description='Chosen Word')\n",
    "\n",
    "# Button widget\n",
    "button = widgets.Button(description=\"Enter\")\n",
    "\n",
    "# Counter widget\n",
    "counter_display = widgets.Label(value=f'Counter: {counter}')\n",
    "\n",
    "# Message widget\n",
    "message = widgets.Label()\n",
    "\n",
    "# Result widget\n",
    "result = widgets.Label()\n",
    "\n",
    "# Function to handle button click event\n",
    "def on_button_clicked(b):\n",
    "    global counter\n",
    "    if dropdown_1.value is not None and dropdown_2.value is not None:\n",
    "        if counter > 0:\n",
    "            counter -= 1\n",
    "            counter_display.value = f'Counter: {counter}'\n",
    "            combined_word = qa_chain(dropdown_1.value + \", \" + dropdown_2.value)['result']\n",
    "            result.value = f'Combined word: {combined_word}'\n",
    "            dropdown_1.options = [combined_word]  # Update dropdown options\n",
    "            if counter == 0:\n",
    "                button.disabled = True\n",
    "                message.value = \"Limit reached. You can no longer click the button.\"\n",
    "        else:\n",
    "            message.value = \"Limit reached. You can no longer click the button.\"\n",
    "    else:\n",
    "        message.value = \"Please select options from both dropdowns before clicking the button.\"\n",
    "\n",
    "button.on_click(on_button_clicked)\n",
    "\n",
    "# Display UI\n",
    "display(dropdown_1)\n",
    "display(dropdown_2)\n",
    "display(button)\n",
    "display(counter_display)\n",
    "display(message)\n",
    "display(result)"
   ]
  },
  {
   "cell_type": "code",
   "execution_count": null,
   "id": "1415d087",
   "metadata": {},
   "outputs": [],
   "source": []
  }
 ],
 "metadata": {
  "kernelspec": {
   "display_name": "Python 3 (ipykernel)",
   "language": "python",
   "name": "python3"
  },
  "language_info": {
   "codemirror_mode": {
    "name": "ipython",
    "version": 3
   },
   "file_extension": ".py",
   "mimetype": "text/x-python",
   "name": "python",
   "nbconvert_exporter": "python",
   "pygments_lexer": "ipython3",
   "version": "3.13.2"
  }
 },
 "nbformat": 4,
 "nbformat_minor": 5
}
